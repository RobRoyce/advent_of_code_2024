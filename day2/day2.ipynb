{
 "cells": [
  {
   "metadata": {},
   "cell_type": "markdown",
   "source": "# Part 1",
   "id": "7a14a38ffabc8e4"
  },
  {
   "metadata": {},
   "cell_type": "code",
   "source": [
    "file_path = \"data.txt\"\n",
    "with open(file_path, \"r\") as file:\n",
    "    data = file.readlines()\n",
    "    \n",
    "data = [line.strip().replace(\"\\n\", \"\") for line in data]\n",
    "data = [line.split(\" \") for line in data]\n",
    "data = [list(int(value) for value in line) for line in data]\n",
    "data[0]"
   ],
   "id": "initial_id",
   "outputs": [],
   "execution_count": null
  },
  {
   "metadata": {},
   "cell_type": "code",
   "source": [
    "min_diff = 1\n",
    "max_diff = 3\n",
    "N = len(data)"
   ],
   "id": "5872148776375b",
   "outputs": [],
   "execution_count": null
  },
  {
   "metadata": {},
   "cell_type": "markdown",
   "source": "## Naive approach",
   "id": "a9dbe640404a3348"
  },
  {
   "metadata": {},
   "cell_type": "code",
   "source": [
    "def check_is_line_safe(line):\n",
    "    M = len(line)\n",
    "    should_increase = line[0] < line[1]\n",
    "    \n",
    "    for i in range(1, M):\n",
    "        diff = line[i] - line[i - 1]\n",
    "        \n",
    "        # If this line should be increasing, but it isn't, the line is not safe\n",
    "        if should_increase and (diff < min_diff or diff > max_diff):\n",
    "            return False\n",
    "        \n",
    "        # Otherwise, if it should be decreasing, but it isn't, the line is not safe\n",
    "        if not should_increase and (diff > -min_diff or diff < -max_diff):\n",
    "            return False\n",
    "            \n",
    "    return True\n",
    "\n",
    "def count_safe_lines(lines):\n",
    "    safe = 0\n",
    "    for line in lines:\n",
    "        if check_is_line_safe(line):\n",
    "            safe += 1\n",
    "    return safe\n",
    "\n",
    "print(count_safe_lines(data))"
   ],
   "id": "ed670644e6b81bf0",
   "outputs": [],
   "execution_count": null
  },
  {
   "metadata": {},
   "cell_type": "markdown",
   "source": [
    "---\n",
    "\n",
    "# Part 2\n",
    "\n",
    "Now we have the option to remove a single element from each line if doing so makes it safe.\n",
    "\n",
    "We can come up with a greedy solution where we look for the first infraction and, rather than returning \"False\" we simply ignore it and move on. "
   ],
   "id": "31f6417ff0ecb5e6"
  },
  {
   "metadata": {},
   "cell_type": "code",
   "source": [
    "def check_is_line_safe_v2(line):\n",
    "    if line[0] == line[1]:\n",
    "        return False\n",
    "    \n",
    "    M = len(line)\n",
    "    should_increase = line[0] < line[1]\n",
    "    tolerated = False\n",
    "    skip = False\n",
    "    \n",
    "    for i in range(1, M):\n",
    "        if skip:\n",
    "            if i == 2:\n",
    "                should_increase = line[0] < line[2] \n",
    "            diff = line[i] - line[i-2]\n",
    "            skip = False\n",
    "        else:\n",
    "            diff = line[i] - line[i - 1]\n",
    "        \n",
    "        # If this line should be increasing, but it isn't, the line is not safe\n",
    "        if should_increase and (diff < min_diff or diff > max_diff):\n",
    "            print(f\"Checking if {line[i]} should be tolerated in {line}\")\n",
    "            if not tolerated:\n",
    "                tolerated = True\n",
    "                skip = True\n",
    "                print(f\"Skipping {line[i]}\")\n",
    "                continue\n",
    "            print(f\"Line not tolerated: {line}\")\n",
    "            return False\n",
    "        \n",
    "        # Otherwise, if it should be decreasing, but it isn't, the line is not safe\n",
    "        if not should_increase and (diff > -min_diff or diff < -max_diff):\n",
    "            print(f\"Checking if {line[i]} should be tolerated in {line}\")\n",
    "            if not tolerated:\n",
    "                tolerated = True\n",
    "                skip = True\n",
    "                print(f\"Skipping {line[i]}\")\n",
    "                continue\n",
    "            print(f\"Line not tolerated: {line}\")\n",
    "            return False\n",
    "            \n",
    "    return True\n",
    "\n",
    "def count_safe_lines_v2(lines):\n",
    "    safe = 0\n",
    "    for line in lines:\n",
    "        if check_is_line_safe_v2(line):\n",
    "            safe += 1\n",
    "    return safe\n",
    "\n",
    "print(count_safe_lines_v2(data))"
   ],
   "id": "61ef8e030b3b9d11",
   "outputs": [],
   "execution_count": null
  },
  {
   "metadata": {},
   "cell_type": "code",
   "source": [
    "print(count_safe_lines_v2([\n",
    "    [77, 80, 78, 73, 72, 74]\n",
    "]))"
   ],
   "id": "157108d4ac83028c",
   "outputs": [],
   "execution_count": null
  },
  {
   "metadata": {},
   "cell_type": "code",
   "source": "",
   "id": "1d7e5ddb50237567",
   "outputs": [],
   "execution_count": null
  }
 ],
 "metadata": {
  "kernelspec": {
   "display_name": "Python 3",
   "language": "python",
   "name": "python3"
  },
  "language_info": {
   "codemirror_mode": {
    "name": "ipython",
    "version": 2
   },
   "file_extension": ".py",
   "mimetype": "text/x-python",
   "name": "python",
   "nbconvert_exporter": "python",
   "pygments_lexer": "ipython2",
   "version": "2.7.6"
  }
 },
 "nbformat": 4,
 "nbformat_minor": 5
}
