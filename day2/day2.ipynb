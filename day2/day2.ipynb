{
 "cells": [
  {
   "metadata": {},
   "cell_type": "markdown",
   "source": "# Part 1",
   "id": "7a14a38ffabc8e4"
  },
  {
   "metadata": {
    "ExecuteTime": {
     "end_time": "2024-12-04T03:03:06.032772Z",
     "start_time": "2024-12-04T03:03:06.025481Z"
    }
   },
   "cell_type": "code",
   "source": [
    "file_path = \"data.txt\"\n",
    "with open(file_path, \"r\") as file:\n",
    "    data = file.readlines()\n",
    "    \n",
    "data = [line.strip().replace(\"\\n\", \"\") for line in data]\n",
    "data = [line.split(\" \") for line in data]\n",
    "data = [list(int(value) for value in line) for line in data]\n",
    "data[0]"
   ],
   "id": "initial_id",
   "outputs": [
    {
     "data": {
      "text/plain": [
       "[62, 65, 67, 70, 73, 76, 75]"
      ]
     },
     "execution_count": 18,
     "metadata": {},
     "output_type": "execute_result"
    }
   ],
   "execution_count": 18
  },
  {
   "metadata": {
    "ExecuteTime": {
     "end_time": "2024-12-04T03:03:07.208543Z",
     "start_time": "2024-12-04T03:03:07.206195Z"
    }
   },
   "cell_type": "code",
   "source": [
    "min_diff = 1\n",
    "max_diff = 3\n",
    "N = len(data)"
   ],
   "id": "5872148776375b",
   "outputs": [],
   "execution_count": 19
  },
  {
   "metadata": {},
   "cell_type": "markdown",
   "source": "## Naive approach",
   "id": "a9dbe640404a3348"
  },
  {
   "metadata": {
    "ExecuteTime": {
     "end_time": "2024-12-04T02:56:18.572945Z",
     "start_time": "2024-12-04T02:56:18.569093Z"
    }
   },
   "cell_type": "code",
   "source": [
    "def check_is_line_safe(line):\n",
    "    M = len(line)\n",
    "    should_increase = line[0] < line[1]\n",
    "    \n",
    "    for i in range(1, M):\n",
    "        diff = line[i] - line[i - 1]\n",
    "        \n",
    "        # If this line should be increasing, but it isn't, the line is not safe\n",
    "        if should_increase and (diff < min_diff or diff > max_diff):\n",
    "            return False\n",
    "        \n",
    "        # Otherwise, if it should be decreasing, but it isn't, the line is not safe\n",
    "        if not should_increase and (diff > -min_diff or diff < -max_diff):\n",
    "            return False\n",
    "            \n",
    "    return True\n",
    "\n",
    "def count_safe_lines(lines):\n",
    "    safe = 0\n",
    "    for line in lines:\n",
    "        if check_is_line_safe(line):\n",
    "            safe += 1\n",
    "    return safe\n",
    "\n",
    "print(count_safe_lines(data))"
   ],
   "id": "ed670644e6b81bf0",
   "outputs": [
    {
     "name": "stdout",
     "output_type": "stream",
     "text": [
      "383\n"
     ]
    }
   ],
   "execution_count": 3
  },
  {
   "metadata": {},
   "cell_type": "markdown",
   "source": [
    "---\n",
    "\n",
    "# Part 2\n",
    "\n",
    "Now we have the option to remove a single element from each line if doing so makes it safe.\n",
    "\n",
    "In this case, we will simply try to remove each element from the line and check if the line is safe. If it is, we will increment the safe counter and move on to the next line. "
   ],
   "id": "31f6417ff0ecb5e6"
  },
  {
   "metadata": {
    "ExecuteTime": {
     "end_time": "2024-12-04T14:37:42.082782Z",
     "start_time": "2024-12-04T14:37:42.078607Z"
    }
   },
   "cell_type": "code",
   "source": [
    "def get_combinations(line):\n",
    "    lines_with_one_removed = []\n",
    "    for i in range(len(line)):\n",
    "        new_line = line.copy()\n",
    "        new_line.pop(i)\n",
    "        lines_with_one_removed.append(new_line)\n",
    "    return lines_with_one_removed\n",
    "\n",
    "def count_safe_lines_v2(lines):\n",
    "    safe = 0\n",
    "    for line in lines:\n",
    "        lines_with_one_removed = get_combinations(line)\n",
    "        for reduced_line in lines_with_one_removed:\n",
    "            line_safe = check_is_line_safe(reduced_line) \n",
    "            if line_safe: \n",
    "                safe += 1\n",
    "                break\n",
    "    return safe\n",
    "\n",
    "print(count_safe_lines_v2(data))"
   ],
   "id": "61ef8e030b3b9d11",
   "outputs": [
    {
     "name": "stdout",
     "output_type": "stream",
     "text": [
      "436\n"
     ]
    }
   ],
   "execution_count": 97
  },
  {
   "metadata": {
    "ExecuteTime": {
     "end_time": "2024-12-04T14:37:43.256651Z",
     "start_time": "2024-12-04T14:37:43.251863Z"
    }
   },
   "cell_type": "code",
   "source": [
    "print(count_safe_lines_v2([\n",
    "    [9, 5, 4, 3, 2], # Safe\n",
    "    [1, 5, 6, 7, 9], # Safe\n",
    "    [7, 6, 4, 2, 1], # Safe\n",
    "    [1, 3, 2, 4, 5], # Safe\n",
    "    [8, 6, 4, 4, 1], # Safe\n",
    "    [1, 3, 6, 7, 9], # Safe\n",
    "    [1, 4, 7], # Safe\n",
    "    [1, 5, 7], # Safe\n",
    "    [3, 7, 4, 5], # Safe \n",
    "    [70, 64, 67, 64, 61, 60], # Safe\n",
    "    [70, 70, 71, 72], # Safe\n",
    "    [16, 14, 12, 13, 9], # Safe\n",
    "    [77, 80, 78, 73, 72, 74], # Unsafe\n",
    "    [1, 2, 7, 8, 9], # Unsafe\n",
    "    [9, 7, 6, 2, 1], # Unsafe\n",
    "    [3, 7, 4, 5, 9], #Unsafe\n",
    "    [66, 62, 60, 60, 58, 56, 52], # Unsafe\n",
    "]))\n",
    "print(f\"Expected to be safe: 12\")"
   ],
   "id": "157108d4ac83028c",
   "outputs": [
    {
     "name": "stdout",
     "output_type": "stream",
     "text": [
      "12\n",
      "Expected to be safe: 12\n"
     ]
    }
   ],
   "execution_count": 98
  },
  {
   "metadata": {},
   "cell_type": "code",
   "source": "",
   "id": "1d7e5ddb50237567",
   "outputs": [],
   "execution_count": null
  }
 ],
 "metadata": {
  "kernelspec": {
   "display_name": "Python 3",
   "language": "python",
   "name": "python3"
  },
  "language_info": {
   "codemirror_mode": {
    "name": "ipython",
    "version": 2
   },
   "file_extension": ".py",
   "mimetype": "text/x-python",
   "name": "python",
   "nbconvert_exporter": "python",
   "pygments_lexer": "ipython2",
   "version": "2.7.6"
  }
 },
 "nbformat": 4,
 "nbformat_minor": 5
}
