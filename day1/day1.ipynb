{
 "cells": [
  {
   "metadata": {},
   "cell_type": "markdown",
   "source": "# Part 1",
   "id": "83a25241913d3513"
  },
  {
   "metadata": {
    "collapsed": true,
    "ExecuteTime": {
     "end_time": "2024-12-03T05:50:20.403415Z",
     "start_time": "2024-12-03T05:50:20.400997Z"
    }
   },
   "cell_type": "code",
   "outputs": [],
   "execution_count": 1,
   "source": "data = \"data.tsv\"\n",
   "id": "initial_id"
  },
  {
   "metadata": {
    "ExecuteTime": {
     "end_time": "2024-12-03T05:52:06.995225Z",
     "start_time": "2024-12-03T05:52:06.988588Z"
    }
   },
   "cell_type": "code",
   "source": [
    "# Load data from tsv into (val1, val2) tuples\n",
    "with open(data, \"r\") as f:\n",
    "    data = [tuple(map(int, line.strip().split())) for line in f]\n",
    "    \n",
    "data[:5]"
   ],
   "id": "9b3ada988210de99",
   "outputs": [
    {
     "data": {
      "text/plain": [
       "[(40094, 37480),\n",
       " (52117, 14510),\n",
       " (92290, 82570),\n",
       " (41563, 59882),\n",
       " (56597, 98604)]"
      ]
     },
     "execution_count": 3,
     "metadata": {},
     "output_type": "execute_result"
    }
   ],
   "execution_count": 3
  },
  {
   "metadata": {
    "ExecuteTime": {
     "end_time": "2024-12-03T05:53:08.915571Z",
     "start_time": "2024-12-03T05:53:08.913651Z"
    }
   },
   "cell_type": "code",
   "source": "left_list, right_list = zip(*data)",
   "id": "617fd81e76555eb3",
   "outputs": [],
   "execution_count": 4
  },
  {
   "metadata": {
    "ExecuteTime": {
     "end_time": "2024-12-03T05:53:16.419117Z",
     "start_time": "2024-12-03T05:53:16.416330Z"
    }
   },
   "cell_type": "code",
   "source": "left_list[:5]",
   "id": "8341bc636295638c",
   "outputs": [
    {
     "data": {
      "text/plain": [
       "(40094, 52117, 92290, 41563, 56597)"
      ]
     },
     "execution_count": 6,
     "metadata": {},
     "output_type": "execute_result"
    }
   ],
   "execution_count": 6
  },
  {
   "metadata": {
    "ExecuteTime": {
     "end_time": "2024-12-03T05:53:35.417817Z",
     "start_time": "2024-12-03T05:53:35.415385Z"
    }
   },
   "cell_type": "code",
   "source": "right_list[:5]",
   "id": "1262419b316c7ebc",
   "outputs": [
    {
     "data": {
      "text/plain": [
       "(37480, 14510, 82570, 59882, 98604)"
      ]
     },
     "execution_count": 8,
     "metadata": {},
     "output_type": "execute_result"
    }
   ],
   "execution_count": 8
  },
  {
   "metadata": {
    "ExecuteTime": {
     "end_time": "2024-12-03T05:53:52.308766Z",
     "start_time": "2024-12-03T05:53:52.305595Z"
    }
   },
   "cell_type": "code",
   "source": "left_list, right_list = sorted(left_list), sorted(right_list)",
   "id": "edb360683c227e5",
   "outputs": [],
   "execution_count": 9
  },
  {
   "metadata": {
    "ExecuteTime": {
     "end_time": "2024-12-03T05:54:47.675803Z",
     "start_time": "2024-12-03T05:54:47.673204Z"
    }
   },
   "cell_type": "code",
   "source": [
    "diffs = []\n",
    "for i in range(len(left_list)):\n",
    "    diffs.append(abs(left_list[i] - right_list[i]))"
   ],
   "id": "18664bbfd858f1c6",
   "outputs": [],
   "execution_count": 10
  },
  {
   "metadata": {
    "ExecuteTime": {
     "end_time": "2024-12-03T05:55:02.225587Z",
     "start_time": "2024-12-03T05:55:02.223055Z"
    }
   },
   "cell_type": "code",
   "source": "sum(diffs)",
   "id": "f334eee414295bc4",
   "outputs": [
    {
     "data": {
      "text/plain": [
       "2430334"
      ]
     },
     "execution_count": 12,
     "metadata": {},
     "output_type": "execute_result"
    }
   ],
   "execution_count": 12
  },
  {
   "metadata": {},
   "cell_type": "markdown",
   "source": "# Part 2",
   "id": "3ed2dac5003e35da"
  },
  {
   "metadata": {
    "ExecuteTime": {
     "end_time": "2024-12-03T05:58:26.041710Z",
     "start_time": "2024-12-03T05:58:26.040040Z"
    }
   },
   "cell_type": "code",
   "source": [
    "# Count the number of times a value appears in the list\n",
    "from collections import Counter"
   ],
   "id": "be22ca4e9d740b6d",
   "outputs": [],
   "execution_count": 13
  },
  {
   "metadata": {
    "ExecuteTime": {
     "end_time": "2024-12-03T05:58:26.210094Z",
     "start_time": "2024-12-03T05:58:26.208203Z"
    }
   },
   "cell_type": "code",
   "source": [
    "# Count the number of times a value appears in the list\n",
    "left_counter = Counter(left_list)\n",
    "right_counter = Counter(right_list)"
   ],
   "id": "542a35c5b218579d",
   "outputs": [],
   "execution_count": 14
  },
  {
   "metadata": {
    "ExecuteTime": {
     "end_time": "2024-12-03T06:00:13.010027Z",
     "start_time": "2024-12-03T06:00:13.007746Z"
    }
   },
   "cell_type": "code",
   "source": [
    "left_nums_score = {}\n",
    "for val in left_list:\n",
    "    if right_counter[val] >= 1:\n",
    "        if val not in left_nums_score:\n",
    "            left_nums_score[val] = val * right_counter[val]\n",
    "        else:\n",
    "            left_nums_score[val] += val * right_counter[val]"
   ],
   "id": "d761bc3181b1835f",
   "outputs": [],
   "execution_count": 16
  },
  {
   "metadata": {
    "ExecuteTime": {
     "end_time": "2024-12-03T06:00:26.551427Z",
     "start_time": "2024-12-03T06:00:26.548397Z"
    }
   },
   "cell_type": "code",
   "source": [
    "# Add the scores\n",
    "sum(left_nums_score.values())"
   ],
   "id": "a7b22a711c5806c4",
   "outputs": [
    {
     "data": {
      "text/plain": [
       "28786472"
      ]
     },
     "execution_count": 17,
     "metadata": {},
     "output_type": "execute_result"
    }
   ],
   "execution_count": 17
  },
  {
   "metadata": {},
   "cell_type": "code",
   "outputs": [],
   "execution_count": null,
   "source": "",
   "id": "cf40db585b21b85c"
  }
 ],
 "metadata": {
  "kernelspec": {
   "display_name": "Python 3",
   "language": "python",
   "name": "python3"
  },
  "language_info": {
   "codemirror_mode": {
    "name": "ipython",
    "version": 2
   },
   "file_extension": ".py",
   "mimetype": "text/x-python",
   "name": "python",
   "nbconvert_exporter": "python",
   "pygments_lexer": "ipython2",
   "version": "2.7.6"
  }
 },
 "nbformat": 4,
 "nbformat_minor": 5
}
