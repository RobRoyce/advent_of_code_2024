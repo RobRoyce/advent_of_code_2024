{
 "cells": [
  {
   "metadata": {},
   "cell_type": "markdown",
   "source": "# Part 1",
   "id": "83a25241913d3513"
  },
  {
   "metadata": {
    "collapsed": true,
    "ExecuteTime": {
     "end_time": "2024-12-03T18:28:44.597150Z",
     "start_time": "2024-12-03T18:28:44.592790Z"
    }
   },
   "cell_type": "code",
   "source": "data = \"data.tsv\"\n",
   "id": "initial_id",
   "outputs": [],
   "execution_count": 1
  },
  {
   "metadata": {
    "ExecuteTime": {
     "end_time": "2024-12-03T18:28:49.506332Z",
     "start_time": "2024-12-03T18:28:49.500909Z"
    }
   },
   "cell_type": "code",
   "source": [
    "# Load data from tsv into (val1, val2) tuples\n",
    "with open(data, \"r\") as f:\n",
    "    data = [tuple(map(int, line.strip().split())) for line in f]\n",
    "    \n",
    "data[:5]"
   ],
   "id": "9b3ada988210de99",
   "outputs": [
    {
     "data": {
      "text/plain": [
       "[(40094, 37480),\n",
       " (52117, 14510),\n",
       " (92290, 82570),\n",
       " (41563, 59882),\n",
       " (56597, 98604)]"
      ]
     },
     "execution_count": 2,
     "metadata": {},
     "output_type": "execute_result"
    }
   ],
   "execution_count": 2
  },
  {
   "metadata": {
    "ExecuteTime": {
     "end_time": "2024-12-03T18:28:51.260007Z",
     "start_time": "2024-12-03T18:28:51.257193Z"
    }
   },
   "cell_type": "code",
   "source": "left_list, right_list = zip(*data)",
   "id": "617fd81e76555eb3",
   "outputs": [],
   "execution_count": 3
  },
  {
   "metadata": {
    "ExecuteTime": {
     "end_time": "2024-12-03T18:28:51.900704Z",
     "start_time": "2024-12-03T18:28:51.897898Z"
    }
   },
   "cell_type": "code",
   "source": "left_list[:5]",
   "id": "8341bc636295638c",
   "outputs": [
    {
     "data": {
      "text/plain": [
       "(40094, 52117, 92290, 41563, 56597)"
      ]
     },
     "execution_count": 4,
     "metadata": {},
     "output_type": "execute_result"
    }
   ],
   "execution_count": 4
  },
  {
   "metadata": {
    "ExecuteTime": {
     "end_time": "2024-12-03T18:28:52.721001Z",
     "start_time": "2024-12-03T18:28:52.717721Z"
    }
   },
   "cell_type": "code",
   "source": "right_list[:5]",
   "id": "1262419b316c7ebc",
   "outputs": [
    {
     "data": {
      "text/plain": [
       "(37480, 14510, 82570, 59882, 98604)"
      ]
     },
     "execution_count": 5,
     "metadata": {},
     "output_type": "execute_result"
    }
   ],
   "execution_count": 5
  },
  {
   "metadata": {
    "ExecuteTime": {
     "end_time": "2024-12-03T18:28:53.919589Z",
     "start_time": "2024-12-03T18:28:53.916398Z"
    }
   },
   "cell_type": "code",
   "source": "left_list, right_list = sorted(left_list), sorted(right_list)",
   "id": "edb360683c227e5",
   "outputs": [],
   "execution_count": 6
  },
  {
   "metadata": {
    "ExecuteTime": {
     "end_time": "2024-12-03T18:28:54.484869Z",
     "start_time": "2024-12-03T18:28:54.482277Z"
    }
   },
   "cell_type": "code",
   "source": [
    "diffs = []\n",
    "for i in range(len(left_list)):\n",
    "    diffs.append(abs(left_list[i] - right_list[i]))"
   ],
   "id": "18664bbfd858f1c6",
   "outputs": [],
   "execution_count": 7
  },
  {
   "metadata": {
    "ExecuteTime": {
     "end_time": "2024-12-03T18:28:55.564198Z",
     "start_time": "2024-12-03T18:28:55.560778Z"
    }
   },
   "cell_type": "code",
   "source": "sum(diffs)",
   "id": "f334eee414295bc4",
   "outputs": [
    {
     "data": {
      "text/plain": [
       "2430334"
      ]
     },
     "execution_count": 8,
     "metadata": {},
     "output_type": "execute_result"
    }
   ],
   "execution_count": 8
  },
  {
   "metadata": {},
   "cell_type": "markdown",
   "source": "# Part 2",
   "id": "3ed2dac5003e35da"
  },
  {
   "metadata": {
    "ExecuteTime": {
     "end_time": "2024-12-03T18:29:17.526247Z",
     "start_time": "2024-12-03T18:29:17.523775Z"
    }
   },
   "cell_type": "code",
   "source": [
    "# Count the number of times a value appears in the list\n",
    "from collections import Counter\n",
    "left_counter = Counter(left_list)\n",
    "right_counter = Counter(right_list)"
   ],
   "id": "be22ca4e9d740b6d",
   "outputs": [],
   "execution_count": 10
  },
  {
   "metadata": {
    "ExecuteTime": {
     "end_time": "2024-12-03T18:29:34.291970Z",
     "start_time": "2024-12-03T18:29:34.288718Z"
    }
   },
   "cell_type": "code",
   "source": [
    "left_nums_score = {}\n",
    "for val in left_list:\n",
    "    if right_counter[val] >= 1:\n",
    "        if val not in left_nums_score:\n",
    "            left_nums_score[val] = val * right_counter[val]\n",
    "        else:\n",
    "            left_nums_score[val] += val * right_counter[val]"
   ],
   "id": "d761bc3181b1835f",
   "outputs": [],
   "execution_count": 11
  },
  {
   "metadata": {
    "ExecuteTime": {
     "end_time": "2024-12-03T18:29:34.529695Z",
     "start_time": "2024-12-03T18:29:34.527098Z"
    }
   },
   "cell_type": "code",
   "source": [
    "# Add the scores\n",
    "sum(left_nums_score.values())"
   ],
   "id": "a7b22a711c5806c4",
   "outputs": [
    {
     "data": {
      "text/plain": [
       "28786472"
      ]
     },
     "execution_count": 12,
     "metadata": {},
     "output_type": "execute_result"
    }
   ],
   "execution_count": 12
  }
 ],
 "metadata": {
  "kernelspec": {
   "display_name": "Python 3",
   "language": "python",
   "name": "python3"
  },
  "language_info": {
   "codemirror_mode": {
    "name": "ipython",
    "version": 2
   },
   "file_extension": ".py",
   "mimetype": "text/x-python",
   "name": "python",
   "nbconvert_exporter": "python",
   "pygments_lexer": "ipython2",
   "version": "2.7.6"
  }
 },
 "nbformat": 4,
 "nbformat_minor": 5
}
