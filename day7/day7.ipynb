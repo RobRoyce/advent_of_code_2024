{
 "cells": [
  {
   "metadata": {},
   "cell_type": "markdown",
   "source": [
    "# Day 7: Bridge Repair\n",
    "\n",
    "The Historians take you to a familiar rope bridge over a river in the middle of a jungle. The Chief isn't on this side of the bridge, though; maybe he's on the other side?\n",
    "\n",
    "When you go to cross the bridge, you notice a group of engineers trying to repair it. (Apparently, it breaks pretty frequently.) You won't be able to cross until it's fixed.\n",
    "\n",
    "You ask how long it'll take; the engineers tell you that it only needs final calibrations, but some young elephants were playing nearby and stole all the operators from their calibration equations! They could finish the calibrations if only someone could determine which test values could possibly be produced by placing any combination of operators into their calibration equations (your puzzle input).\n",
    "\n",
    "For example:\n",
    "```\n",
    "190: 10 19\n",
    "3267: 81 40 27\n",
    "83: 17 5\n",
    "156: 15 6\n",
    "7290: 6 8 6 15\n",
    "161011: 16 10 13\n",
    "192: 17 8 14\n",
    "21037: 9 7 18 13\n",
    "292: 11 6 16 20\n",
    "```\n",
    "Each line represents a single equation. The test value appears before the colon on each line; it is your job to determine whether the remaining numbers can be combined with operators to produce the test value.\n",
    "\n",
    "Operators are always evaluated left-to-right, not according to precedence rules. Furthermore, numbers in the equations cannot be rearranged. Glancing into the jungle, you can see elephants holding two different types of operators: add (+) and multiply (*).\n",
    "\n",
    "Only three of the above equations can be made true by inserting operators:\n",
    "\n",
    "190: 10 19 has only one position that accepts an operator: between 10 and 19. Choosing + would give 29, but choosing * would give the test value (10 * 19 = 190).\n",
    "3267: 81 40 27 has two positions for operators. Of the four possible configurations of the operators, two cause the right side to match the test value: 81 + 40 * 27 and 81 * 40 + 27 both equal 3267 (when evaluated left-to-right)!\n",
    "292: 11 6 16 20 can be solved in exactly one way: 11 + 6 * 16 + 20.\n",
    "The engineers just need the total calibration result, which is the sum of the test values from just the equations that could possibly be true. In the above example, the sum of the test values for the three equations listed above is 3749.\n",
    "\n",
    "Determine which equations could possibly be true. What is their total calibration result?"
   ],
   "id": "3edee6dca1439240"
  },
  {
   "cell_type": "code",
   "id": "initial_id",
   "metadata": {
    "collapsed": true,
    "ExecuteTime": {
     "end_time": "2024-12-09T06:34:22.910426Z",
     "start_time": "2024-12-09T06:34:22.908155Z"
    }
   },
   "source": [
    "def get_data(filename):\n",
    "    with open(filename) as f:\n",
    "        lines = f.read().splitlines()\n",
    "        # lines = [line.replace(':', '') for line in lines]\n",
    "        # lines = [line.split() for line in lines]\n",
    "        # lines = [[int(x) for x in line] for line in lines]\n",
    "    return lines\n",
    "\n",
    "def get_equation(line):\n",
    "    return line[0], line[1:]"
   ],
   "outputs": [],
   "execution_count": 14
  },
  {
   "metadata": {},
   "cell_type": "markdown",
   "source": [
    "# Naive Solution\n",
    "Brute force solution to find all possible combinations of operators to calculate the test value. The number of locations where we can place an operator in a list of K numbers is K-1. We have two operators (+/*) so the total number of combinations is $2^{K-1}$. We can iterate over all possible combinations and check if the test value is equal to the calculated value."
   ],
   "id": "4ed93634ce4ea1d5"
  },
  {
   "metadata": {
    "ExecuteTime": {
     "end_time": "2024-12-09T06:33:45.627364Z",
     "start_time": "2024-12-09T06:33:45.624624Z"
    }
   },
   "cell_type": "code",
   "source": [
    "def get_operators(n):\n",
    "    # A generator for all possible combinations of operators for n numbers\n",
    "    for i in range(2**(n-1)):\n",
    "        operators = []\n",
    "        for j in range(n-1):\n",
    "            if i & (1<<j):\n",
    "                operators.append('+')\n",
    "            else:\n",
    "                operators.append('*')\n",
    "        yield operators\n",
    "\n",
    "def find_equations(lines):\n",
    "    result = 0\n",
    "    for line in lines:\n",
    "        test_value, numbers = get_equation(line)\n",
    "        for operators in get_operators(len(numbers)):\n",
    "            value = numbers[0]\n",
    "            for i in range(len(operators)):\n",
    "                if operators[i] == '+':\n",
    "                    value += numbers[i+1]\n",
    "                else:\n",
    "                    value *= numbers[i+1]\n",
    "            if value == test_value:\n",
    "                result += test_value\n",
    "                break\n",
    "    return result\n",
    "\n",
    "def run():\n",
    "    lines = get_data('data.txt')\n",
    "    result = find_equations(lines)\n",
    "    print(result)"
   ],
   "id": "7ddc47a761407efe",
   "outputs": [],
   "execution_count": 7
  },
  {
   "metadata": {
    "ExecuteTime": {
     "end_time": "2024-12-09T06:33:46.047456Z",
     "start_time": "2024-12-09T06:33:45.834067Z"
    }
   },
   "cell_type": "code",
   "source": "run()",
   "id": "f4bdb0328c06b997",
   "outputs": [
    {
     "name": "stdout",
     "output_type": "stream",
     "text": [
      "28730327770375\n"
     ]
    }
   ],
   "execution_count": 8
  },
  {
   "metadata": {},
   "cell_type": "markdown",
   "source": [
    "# Optimized Solution\n",
    "We can optimize the solution by using a recursive function to find all possible combinations of operators. We can pass the current value and the index of the next number to the function. The function will return the calculated value for all possible combinations of operators."
   ],
   "id": "274694df949b354d"
  },
  {
   "metadata": {
    "ExecuteTime": {
     "end_time": "2024-12-09T06:33:46.287140Z",
     "start_time": "2024-12-09T06:33:46.283607Z"
    }
   },
   "cell_type": "code",
   "source": [
    "def find_equations_v2(lines):\n",
    "    def find(test_value, numbers, value, index):\n",
    "        # Edge case, if there's only one number, check if it is equal to the test value\n",
    "        if len(numbers) == 1:\n",
    "            print(f\"Value: {value}, Test Value: {test_value} => {value == test_value}\")\n",
    "            return value == test_value\n",
    "\n",
    "        if index == len(numbers):\n",
    "            return value == test_value\n",
    "        if find(test_value, numbers, value + numbers[index], index + 1):\n",
    "            return True\n",
    "        if find(test_value, numbers, value * numbers[index], index + 1):\n",
    "            return True\n",
    "        return False\n",
    "\n",
    "    result = 0\n",
    "    for line in lines:\n",
    "        test_value, numbers = get_equation(line)\n",
    "        if find(test_value, numbers, numbers[0], 1):\n",
    "            result += test_value\n",
    "    return result\n",
    "\n",
    "def run():\n",
    "    lines = get_data('data.txt')\n",
    "    result = find_equations_v2(lines)\n",
    "    print(result)"
   ],
   "id": "573a62f0d95f6e25",
   "outputs": [],
   "execution_count": 9
  },
  {
   "metadata": {
    "ExecuteTime": {
     "end_time": "2024-12-09T06:33:46.570767Z",
     "start_time": "2024-12-09T06:33:46.522494Z"
    }
   },
   "cell_type": "code",
   "source": "run()",
   "id": "4bcec863f63fb1bf",
   "outputs": [
    {
     "name": "stdout",
     "output_type": "stream",
     "text": [
      "28730327770375\n"
     ]
    }
   ],
   "execution_count": 10
  },
  {
   "metadata": {
    "ExecuteTime": {
     "end_time": "2024-12-09T06:33:46.744554Z",
     "start_time": "2024-12-09T06:33:46.742992Z"
    }
   },
   "cell_type": "code",
   "source": "",
   "id": "93edb909436b00d5",
   "outputs": [],
   "execution_count": null
  },
  {
   "metadata": {},
   "cell_type": "markdown",
   "source": [
    "# Part Two\n",
    "\n",
    "The engineers seem concerned; the total calibration result you gave them is nowhere close to being within safety tolerances. Just then, you spot your mistake: some well-hidden elephants are holding a third type of operator.\n",
    "\n",
    "The concatenation operator (||) combines the digits from its left and right inputs into a single number. For example, 12 || 345 would become 12345. All operators are still evaluated left-to-right.\n",
    "\n",
    "Now, apart from the three equations that could be made true using only addition and multiplication, the above example has three more equations that can be made true by inserting operators:\n",
    "\n",
    "- `156: 15 6` can be made true through a single concatenation: 15 || 6 = 156.\n",
    "- `7290: 6 8 6 15` can be made true using 6 * 8 || 6 * 15.\n",
    "- `192: 17 8 14` can be made true using 17 || 8 + 14.\n",
    "Adding up all six test values (the three that could be made before using only + and * plus the new three that can now be made by also using ||) produces the new total calibration result of 11387.\n",
    "\n",
    "Using your new knowledge of elephant hiding spots, determine which equations could possibly be true. What is their total calibration result?"
   ],
   "id": "b474802a8fc88c8d"
  },
  {
   "metadata": {},
   "cell_type": "markdown",
   "source": "",
   "id": "e350ae54cb5b2215"
  },
  {
   "metadata": {
    "ExecuteTime": {
     "end_time": "2024-12-09T06:34:26.975969Z",
     "start_time": "2024-12-09T06:34:26.970109Z"
    }
   },
   "cell_type": "code",
   "source": [
    "def solve_part2(lines):\n",
    "    total = 0\n",
    "    for line in lines:\n",
    "        line = line.strip()\n",
    "        if not line:\n",
    "            continue\n",
    "        target_str, nums_str = line.split(':')\n",
    "        target = int(target_str)\n",
    "        nums = list(map(int, nums_str.split()))\n",
    "        \n",
    "        if can_make_target(nums, target):\n",
    "            total += target\n",
    "    return total\n",
    "\n",
    "\n",
    "def can_make_target(nums, target):\n",
    "    # If only one number, just check equality\n",
    "    if len(nums) == 1:\n",
    "        return nums[0] == target\n",
    "\n",
    "    expressions = generate_expressions(nums)\n",
    "    for expr in expressions:\n",
    "        if evaluate_expression(expr) == target:\n",
    "            return True\n",
    "    return False\n",
    "\n",
    "\n",
    "def generate_expressions(nums):\n",
    "    \"\"\" Generate all expressions by inserting +, *, || between the numbers. \n",
    "        Return a list of lists, where each list is [num, op, num, op, num, ...].\n",
    "        For convenience, we'll store the expression as a list alternating between numbers and operators, \n",
    "        starting and ending with numbers.\n",
    "    \"\"\"\n",
    "    result = []\n",
    "    ops = ['+', '*', '||']\n",
    "    \n",
    "    def backtrack(index, current_expr):\n",
    "        # index refers to the position in nums\n",
    "        # current_expr is a list like [num, op, num, op, ...]\n",
    "        if index == len(nums) - 1:\n",
    "            # Reached the last number\n",
    "            result.append(current_expr[:])\n",
    "            return\n",
    "        \n",
    "        # We are at nums[index], next gap is before nums[index+1]\n",
    "        for op in ops:\n",
    "            # Add operator and next number\n",
    "            new_expr = current_expr + [op, nums[index+1]]\n",
    "            backtrack(index+1, new_expr)\n",
    "    \n",
    "    # Start with the first number\n",
    "    backtrack(0, [nums[0]])\n",
    "    return result\n",
    "\n",
    "\n",
    "def evaluate_expression(expr):\n",
    "    \"\"\" Evaluate the expression list left-to-right. \n",
    "        expr is something like [num, '+', num, '||', num, '*', num]\n",
    "        Evaluate strictly left to right:\n",
    "        - Start with expr[0] as current value (must be a number)\n",
    "        - For each operator+number pair:\n",
    "          if op == '||', concatenate current_value and next_num as strings\n",
    "          else if op == '+', do arithmetic addition\n",
    "          else if op == '*', do arithmetic multiplication\n",
    "    \"\"\"\n",
    "    # expr alternates between numbers and operators, starting and ending with a number.\n",
    "    # So expr = [num, op, num, op, num, ...]\n",
    "    value = expr[0]\n",
    "    i = 1\n",
    "    while i < len(expr):\n",
    "        op = expr[i]\n",
    "        next_num = expr[i+1]\n",
    "        \n",
    "        if op == '||':\n",
    "            # Concatenate\n",
    "            value = int(str(value) + str(next_num))\n",
    "        elif op == '+':\n",
    "            value = value + next_num\n",
    "        elif op == '*':\n",
    "            value = value * next_num\n",
    "        i += 2\n",
    "    \n",
    "    return value\n",
    "\n",
    "\n",
    "# Test with the given sample from the puzzle (should print 11387):\n",
    "sample_lines = [\n",
    "    \"190: 10 19\",\n",
    "    \"3267: 81 40 27\",\n",
    "    \"83: 17 5\",\n",
    "    \"156: 15 6\",\n",
    "    \"7290: 6 8 6 15\",\n",
    "    \"161011: 16 10 13\",\n",
    "    \"192: 17 8 14\",\n",
    "    \"21037: 9 7 18 13\",\n",
    "    \"292: 11 6 16 20\"\n",
    "]\n",
    "\n",
    "print(solve_part2(sample_lines))  # Expected 11387\n"
   ],
   "id": "d920c2e3394ea7e5",
   "outputs": [
    {
     "name": "stdout",
     "output_type": "stream",
     "text": [
      "11387\n"
     ]
    }
   ],
   "execution_count": 15
  },
  {
   "metadata": {
    "ExecuteTime": {
     "end_time": "2024-12-09T06:34:27.890386Z",
     "start_time": "2024-12-09T06:34:27.887128Z"
    }
   },
   "cell_type": "code",
   "source": [
    "def run():\n",
    "    lines = get_data('data.txt')\n",
    "    result = solve_part2(lines)\n",
    "    print(result)"
   ],
   "id": "fbe86bae63d26d7a",
   "outputs": [],
   "execution_count": 16
  },
  {
   "metadata": {
    "ExecuteTime": {
     "end_time": "2024-12-09T06:34:55.205637Z",
     "start_time": "2024-12-09T06:34:28.668010Z"
    }
   },
   "cell_type": "code",
   "source": "run()",
   "id": "44aa567c4050b09a",
   "outputs": [
    {
     "name": "stdout",
     "output_type": "stream",
     "text": [
      "424977609625985\n"
     ]
    }
   ],
   "execution_count": 17
  },
  {
   "metadata": {},
   "cell_type": "code",
   "outputs": [],
   "execution_count": null,
   "source": "",
   "id": "c54410bcf9384e20"
  }
 ],
 "metadata": {
  "kernelspec": {
   "display_name": "Python 3",
   "language": "python",
   "name": "python3"
  },
  "language_info": {
   "codemirror_mode": {
    "name": "ipython",
    "version": 2
   },
   "file_extension": ".py",
   "mimetype": "text/x-python",
   "name": "python",
   "nbconvert_exporter": "python",
   "pygments_lexer": "ipython2",
   "version": "2.7.6"
  }
 },
 "nbformat": 4,
 "nbformat_minor": 5
}
