{
 "cells": [
  {
   "metadata": {},
   "cell_type": "markdown",
   "source": [
    "# Day 3: Mull It Over\n",
    "## Part 1\n",
    "\n",
    "\"Our computers are having issues, so I have no idea if we have any Chief Historians in stock! You're welcome to check the warehouse, though,\" says the mildly flustered shopkeeper at the North Pole Toboggan Rental Shop. The Historians head out to take a look.\n",
    "\n",
    "The shopkeeper turns to you. \"Any chance you can see why our computers are having issues again?\"\n",
    "\n",
    "The computer appears to be trying to run a program, but its memory (your puzzle input) is corrupted. All of the instructions have been jumbled up!\n",
    "\n",
    "It seems like the goal of the program is just to multiply some numbers. It does that with instructions like mul(X,Y), where X and Y are each 1-3 digit numbers. For instance, mul(44,46) multiplies 44 by 46 to get a result of 2024. Similarly, mul(123,4) would multiply 123 by 4.\n",
    "\n",
    "However, because the program's memory has been corrupted, there are also many invalid characters that should be ignored, even if they look like part of a mul instruction. Sequences like mul(4*, mul(6,9!, ?(12,34), or mul ( 2 , 4 ) do nothing.\n",
    "\n",
    "For example, consider the following section of corrupted memory:\n",
    "\n",
    "xmul(2,4)%&mul[3,7]!@^do_not_mul(5,5)+mul(32,64]then(mul(11,8)mul(8,5))\n",
    "Only the four highlighted sections are real mul instructions. Adding up the result of each instruction produces 161 (2*4 + 5*5 + 11*8 + 8*5).\n",
    "\n",
    "Scan the corrupted memory for uncorrupted mul instructions. What do you get if you add up all of the results of the multiplications?"
   ],
   "id": "22f0b32ab5470247"
  },
  {
   "metadata": {
    "collapsed": true,
    "ExecuteTime": {
     "end_time": "2024-12-04T15:07:16.133522Z",
     "start_time": "2024-12-04T15:07:16.129874Z"
    }
   },
   "cell_type": "code",
   "source": [
    "import re\n",
    "\n",
    "file_path = \"data.txt\"\n",
    "with open(file_path, 'r') as file:\n",
    "    data = file.read()"
   ],
   "id": "initial_id",
   "outputs": [],
   "execution_count": 1
  },
  {
   "metadata": {
    "ExecuteTime": {
     "end_time": "2024-12-04T15:07:16.152523Z",
     "start_time": "2024-12-04T15:07:16.149081Z"
    }
   },
   "cell_type": "code",
   "source": [
    "pattern = re.compile(r\"mul\\((\\d+),(\\d+)\\)\")\n",
    "matches = pattern.findall(data)\n",
    "print(matches[:5])"
   ],
   "id": "a480e0c7b4ca6474",
   "outputs": [
    {
     "name": "stdout",
     "output_type": "stream",
     "text": [
      "[('603', '692'), ('387', '685'), ('28', '717'), ('486', '768'), ('280', '932')]\n"
     ]
    }
   ],
   "execution_count": 2
  },
  {
   "metadata": {
    "ExecuteTime": {
     "end_time": "2024-12-04T15:07:16.234885Z",
     "start_time": "2024-12-04T15:07:16.232811Z"
    }
   },
   "cell_type": "code",
   "source": [
    "result = sum([int(x)*int(y) for x, y in matches])\n",
    "print(result)"
   ],
   "id": "8476e2b61db34e44",
   "outputs": [
    {
     "name": "stdout",
     "output_type": "stream",
     "text": [
      "174336360\n"
     ]
    }
   ],
   "execution_count": 3
  },
  {
   "metadata": {},
   "cell_type": "markdown",
   "source": [
    "## Part 2\n",
    "\n",
    "As you scan through the corrupted memory, you notice that some of the conditional statements are also still intact. If you handle some of the uncorrupted conditional statements in the program, you might be able to get an even more accurate result.\n",
    "\n",
    "There are two new instructions you'll need to handle:\n",
    "\n",
    "The do() instruction enables future mul instructions.\n",
    "The don't() instruction disables future mul instructions.\n",
    "Only the most recent do() or don't() instruction applies. At the beginning of the program, mul instructions are enabled.\n",
    "\n",
    "For example:\n",
    "\n",
    "xmul(2,4)&mul[3,7]!^don't()_mul(5,5)+mul(32,64](mul(11,8)undo()?mul(8,5))\n",
    "This corrupted memory is similar to the example from before, but this time the mul(5,5) and mul(11,8) instructions are disabled because there is a don't() instruction before them. The other mul instructions function normally, including the one at the end that gets re-enabled by a do() instruction.\n",
    "\n",
    "This time, the sum of the results is 48 (2*4 + 8*5).\n",
    "\n",
    "Handle the new instructions; what do you get if you add up all of the results of just the enabled multiplications?"
   ],
   "id": "825e6c17d0a1542a"
  },
  {
   "metadata": {
    "ExecuteTime": {
     "end_time": "2024-12-04T15:07:24.451467Z",
     "start_time": "2024-12-04T15:07:24.448363Z"
    }
   },
   "cell_type": "code",
   "source": [
    "file_path = \"data.txt\"\n",
    "with open(file_path, 'r') as file:\n",
    "    data = file.read()\n",
    "data[:100]"
   ],
   "id": "ff3e68382430fb24",
   "outputs": [
    {
     "data": {
      "text/plain": [
       "'from()why()?mul(603,692)({select()}] )]-(mul(387,685)who()mul(28,717)who()]where()what()mul(486,768)'"
      ]
     },
     "execution_count": 7,
     "metadata": {},
     "output_type": "execute_result"
    }
   ],
   "execution_count": 7
  },
  {
   "metadata": {},
   "cell_type": "markdown",
   "source": [
    "### Strategy\n",
    "\n",
    "We can treat the regex matches as a queue to keep track of the do/don't/mul instructions."
   ],
   "id": "4ec4b0daaf923782"
  },
  {
   "metadata": {
    "ExecuteTime": {
     "end_time": "2024-12-04T15:09:28.912395Z",
     "start_time": "2024-12-04T15:09:28.910171Z"
    }
   },
   "cell_type": "code",
   "source": [
    "pattern = re.compile(r\"(mul\\((\\d+),(\\d+)\\)|do\\(\\)|don't\\(\\))\")\n",
    "matches = pattern.findall(data)\n",
    "print(matches[:2])"
   ],
   "id": "38b04040bfeb34f1",
   "outputs": [
    {
     "name": "stdout",
     "output_type": "stream",
     "text": [
      "[('mul(603,692)', '603', '692'), ('mul(387,685)', '387', '685')]\n"
     ]
    }
   ],
   "execution_count": 13
  },
  {
   "metadata": {
    "ExecuteTime": {
     "end_time": "2024-12-04T15:07:57.861042Z",
     "start_time": "2024-12-04T15:07:57.857006Z"
    }
   },
   "cell_type": "code",
   "source": [
    "result = 0\n",
    "enabled = True\n",
    "for match in matches:\n",
    "    if match[0] == \"do()\":\n",
    "        enabled = True\n",
    "    elif match[0] == \"don't()\":\n",
    "        enabled = False\n",
    "\n",
    "    if enabled and match[0].startswith(\"mul\"):\n",
    "            result += int(match[1]) * int(match[2])\n",
    "print(result)"
   ],
   "id": "fff6d67248d49a16",
   "outputs": [
    {
     "name": "stdout",
     "output_type": "stream",
     "text": [
      "88802350\n"
     ]
    }
   ],
   "execution_count": 10
  }
 ],
 "metadata": {
  "kernelspec": {
   "display_name": "Python 3",
   "language": "python",
   "name": "python3"
  },
  "language_info": {
   "codemirror_mode": {
    "name": "ipython",
    "version": 2
   },
   "file_extension": ".py",
   "mimetype": "text/x-python",
   "name": "python",
   "nbconvert_exporter": "python",
   "pygments_lexer": "ipython2",
   "version": "2.7.6"
  }
 },
 "nbformat": 4,
 "nbformat_minor": 5
}
